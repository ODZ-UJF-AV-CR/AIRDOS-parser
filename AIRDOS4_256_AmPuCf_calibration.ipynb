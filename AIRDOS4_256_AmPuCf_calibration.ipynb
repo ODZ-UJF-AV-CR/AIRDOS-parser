{
 "cells": [
  {
   "cell_type": "markdown",
   "metadata": {},
   "source": [
    "# AIRDOS AmPuCf Clibration (256 ch. version)"
   ]
  },
  {
   "cell_type": "code",
   "execution_count": 2,
   "metadata": {},
   "outputs": [],
   "source": [
    "import pandas as pd\n",
    "import numpy as np\n",
    "from datetime import datetime, timedelta\n",
    "from IPython.display import Image as ImageDisp\n",
    "from pandas import DataFrame\n",
    "import string\n",
    "import os\n",
    "import matplotlib.pyplot as plt"
   ]
  },
  {
   "cell_type": "code",
   "execution_count": 3,
   "metadata": {},
   "outputs": [
    {
     "name": "stdout",
     "output_type": "stream",
     "text": [
      "Populating the interactive namespace from numpy and matplotlib\n"
     ]
    }
   ],
   "source": [
    "%pylab inline --no-import-all"
   ]
  },
  {
   "cell_type": "markdown",
   "metadata": {},
   "source": [
    "## Read Logfile"
   ]
  },
  {
   "cell_type": "code",
   "execution_count": 4,
   "metadata": {},
   "outputs": [],
   "source": [
    "fto = './data/DATALOG.TXT' #  File to Open\n",
    "l=[]\n",
    "l.extend(range(0,520))\n",
    "df = pd.read_table(fto, sep=',', header=None, names=l, comment='*',engine='python' )\n",
    "\n",
    "#\n",
    "''' DEBUG\n",
    "df = df.reset_index(drop=True)\n",
    "df.drop(df[df.index > 100].index, inplace=True)\n",
    "'''#'''\n",
    "\n",
    "df.drop(df[df[0]=='$GPTXT'].index, inplace=True)\n",
    "#df.drop(r[r[0]=='$GPRMC'].index, inplace=True)\n",
    "df.drop(df[df[0]=='$GPVTG'].index, inplace=True)\n",
    "df.drop(df[df[0]=='$GPGLL'].index, inplace=True)\n",
    "df.drop(df[df[0]=='$GPGSA'].index, inplace=True)\n",
    "df.drop(df[df[0]=='$GPGSV'].index, inplace=True)\n",
    "#df.drop(df[df[0]=='$CANDY'].index, inplace=True)"
   ]
  },
  {
   "cell_type": "markdown",
   "metadata": {},
   "source": [
    "# Spectrum Interactive"
   ]
  },
  {
   "cell_type": "code",
   "execution_count": 8,
   "metadata": {},
   "outputs": [],
   "source": [
    "%matplotlib qt\n",
    "import pandas as pd\n",
    "import numpy as np\n",
    "from datetime import datetime, timedelta\n",
    "from IPython.display import Image as ImageDisp\n",
    "from pandas import DataFrame\n",
    "import string\n",
    "import os\n",
    "import matplotlib.pyplot as plt\n",
    "\n",
    "fto = './data/DATALOG.TXT' #  File to Open\n",
    "l=[]\n",
    "l.extend(range(0,520))\n",
    "df = pd.read_table(fto, sep=',', header=None, names=l, comment='*')\n",
    "\n",
    "#\n",
    "''' DEBUG\n",
    "df = df.reset_index(drop=True)\n",
    "df.drop(df[df.index > 100].index, inplace=True)\n",
    "'''#'''\n",
    "\n",
    "df.drop(df[df[0]=='$GPTXT'].index, inplace=True)\n",
    "#df.drop(r[r[0]=='$GPRMC'].index, inplace=True)\n",
    "df.drop(df[df[0]=='$GPVTG'].index, inplace=True)\n",
    "df.drop(df[df[0]=='$GPGLL'].index, inplace=True)\n",
    "df.drop(df[df[0]=='$GPGSA'].index, inplace=True)\n",
    "df.drop(df[df[0]=='$GPGSV'].index, inplace=True)\n",
    "#df.drop(df[df[0]=='$CANDY'].index, inplace=True)\n",
    "\n",
    "\n",
    "matplotlib.rcParams.update({'font.size': 20})\n",
    "\n",
    "rc = df.loc[df[0]=='$CANDY']\n",
    "rc.reset_index(drop=True, inplace=True)\n",
    "\n",
    "rc = rc.apply(pd.to_numeric, errors='coerce')\n",
    "\n",
    "rc['sum'] = rc[range(270,513)].sum(axis=1)\n",
    "\n",
    "plt.figure(figsize=(20,5))\n",
    "plt.yscale('log')\n",
    "\n",
    "rc.ix[:,'sum'].plot(c='black')\n",
    "\n",
    "plt.title('Select 6 points: begin Am - end Am, begin Pu - end Pu, begin Cf - end Cf.')\n",
    "plt.xlabel('Measurement No.')\n",
    "plt.ylabel('Flux [counts per 10 s]')\n",
    "\n",
    "#----------- Select Measurements in Flux diagram -----------------------------\n",
    "points=plt.ginput(6)\n",
    "\n",
    "e1 = [points[0][0],points[1][0]]\n",
    "e2 = [points[2][0],points[3][0]]\n",
    "e3 = [points[4][0],points[5][0]]\n",
    "\n",
    "rc.ix[e1[0]:e1[1],'sum'].plot(c='b')\n",
    "rc.ix[e2[0]:e2[1],'sum'].plot(c='orange')\n",
    "rc.ix[e3[0]:e3[1],'sum'].plot(c='g')\n",
    "\n",
    "plt.title('AIRDOS')\n",
    "plt.xlabel('measurement No.')\n",
    "plt.ylabel('Flux [counts per 10 s]')\n",
    "\n",
    "#----------- Plot Spectrum -----------------------------\n",
    "LOW_ENERGY = 256\n",
    "\n",
    "ener1 = rc.ix[e1[0]:e1[1],LOW_ENERGY:513].sum()\n",
    "ener2 = rc.ix[e2[0]:e2[1],LOW_ENERGY:513].sum()\n",
    "ener3 = rc.ix[e3[0]:e3[1],LOW_ENERGY:513].sum()\n",
    " \n",
    "plt.figure(figsize=(15,10))\n",
    "plt.yscale('log')\n",
    "\n",
    "plt.plot(ener1, label='Am-241 5.49 MeV (85 %) / 5.44 MeV (13 %)', drawstyle='steps-pre', c='blue')\n",
    "plt.plot(ener2, label='Pu-239 5.16 MeV (73 %) / 5.14 (15 %) / 5.11 (12 %)', drawstyle='steps-pre', c='orange')\n",
    "plt.plot(ener3, label='Cf-252 6.12 MeV (84 %) / 6.08 MeV (16 %)', drawstyle='steps-pre', c='green')\n",
    "#plt.ylim([0,20000])\n",
    "#plt.xlim([600,750])\n",
    "plt.legend()\n",
    "plt.title('AIRDOS Alpha Spectrum')\n",
    "plt.xlabel('Channel')\n",
    "plt.ylabel('Counts')\n",
    "#plt.xticks(range(500,1030,10))\n",
    "plt.xticks(rotation=90)\n",
    "plt.grid()\n"
   ]
  },
  {
   "cell_type": "markdown",
   "metadata": {},
   "source": [
    "## Save Histogram Data"
   ]
  },
  {
   "cell_type": "code",
   "execution_count": 11,
   "metadata": {},
   "outputs": [],
   "source": [
    "ener1.to_csv('Am.csv')\n",
    "ener2.to_csv('Pu.csv')\n",
    "ener3.to_csv('Cf.csv')"
   ]
  },
  {
   "cell_type": "code",
   "execution_count": null,
   "metadata": {
    "collapsed": true
   },
   "outputs": [],
   "source": []
  }
 ],
 "metadata": {
  "kernelspec": {
   "display_name": "Python 2",
   "language": "python",
   "name": "python2"
  },
  "language_info": {
   "codemirror_mode": {
    "name": "ipython",
    "version": 2
   },
   "file_extension": ".py",
   "mimetype": "text/x-python",
   "name": "python",
   "nbconvert_exporter": "python",
   "pygments_lexer": "ipython2",
   "version": "2.7.12"
  }
 },
 "nbformat": 4,
 "nbformat_minor": 1
}
