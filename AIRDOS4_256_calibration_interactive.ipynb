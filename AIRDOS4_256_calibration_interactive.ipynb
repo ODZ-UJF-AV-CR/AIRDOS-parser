{
 "cells": [
  {
   "cell_type": "markdown",
   "metadata": {},
   "source": [
    "# AIRDOS HIMAC Clibration (256 ch. version)"
   ]
  },
  {
   "cell_type": "markdown",
   "metadata": {},
   "source": [
    "# Spectrum Interactive"
   ]
  },
  {
   "cell_type": "code",
   "execution_count": 1,
   "metadata": {},
   "outputs": [
    {
     "name": "stdout",
     "output_type": "stream",
     "text": [
      "Populating the interactive namespace from numpy and matplotlib\n"
     ]
    },
    {
     "name": "stderr",
     "output_type": "stream",
     "text": [
      "/usr/lib/python2.7/dist-packages/matplotlib/backend_bases.py:2437: MatplotlibDeprecationWarning: Using default event loop until function specific to this GUI is implemented\n",
      "  warnings.warn(str, mplDeprecation)\n"
     ]
    }
   ],
   "source": [
    "%pylab inline --no-import-all\n",
    "%matplotlib qt\n",
    "import pandas as pd\n",
    "import numpy as np\n",
    "from datetime import datetime, timedelta\n",
    "from IPython.display import Image as ImageDisp\n",
    "from pandas import DataFrame\n",
    "import string\n",
    "import os\n",
    "import matplotlib.pyplot as plt\n",
    "import matplotlib\n",
    "\n",
    "fto = './data/DATALOG.TXT' #  File to Open\n",
    "l=[]\n",
    "l.extend(range(0,520))\n",
    "df = pd.read_table(fto, sep=',', header=None, names=l, comment='*',engine='python')\n",
    "\n",
    "#\n",
    "''' DEBUG\n",
    "df = df.reset_index(drop=True)\n",
    "df.drop(df[df.index > 100].index, inplace=True)\n",
    "'''#'''\n",
    "\n",
    "df.drop(df[df[0]=='$GPTXT'].index, inplace=True)\n",
    "#df.drop(r[r[0]=='$GPRMC'].index, inplace=True)\n",
    "df.drop(df[df[0]=='$GPVTG'].index, inplace=True)\n",
    "df.drop(df[df[0]=='$GPGLL'].index, inplace=True)\n",
    "df.drop(df[df[0]=='$GPGSA'].index, inplace=True)\n",
    "df.drop(df[df[0]=='$GPGSV'].index, inplace=True)\n",
    "#df.drop(df[df[0]=='$CANDY'].index, inplace=True)\n",
    "\n",
    "\n",
    "matplotlib.rcParams.update({'font.size': 20})\n",
    "\n",
    "rc = df.loc[df[0]=='$CANDY']\n",
    "rc.reset_index(drop=True, inplace=True)\n",
    "\n",
    "rc = rc.apply(pd.to_numeric, errors='coerce')\n",
    "\n",
    "rc['sum'] = rc[range(270,513)].sum(axis=1)\n",
    "\n",
    "plt.figure(figsize=(20,5))\n",
    "plt.yscale('log')\n",
    "\n",
    "rc.ix[:,'sum'].plot(c='black')\n",
    "\n",
    "plt.title('Select 10 points.')\n",
    "plt.xlabel('Measurement No.')\n",
    "plt.ylabel('Flux [counts per 10 s]')\n",
    "\n",
    "#----------- Select Measurements in Flux diagram -----------------------------\n",
    "points=plt.ginput(10)\n",
    "\n",
    "e1 = [points[0][0],points[1][0]]\n",
    "e2 = [points[2][0],points[3][0]]\n",
    "e3 = [points[4][0],points[5][0]]\n",
    "e4 = [points[6][0],points[7][0]]\n",
    "e5 = [points[8][0],points[9][0]]\n",
    "\n",
    "rc.ix[e1[0]:e1[1],'sum'].plot(c='blue')\n",
    "rc.ix[e2[0]:e2[1],'sum'].plot(c='orange')\n",
    "rc.ix[e3[0]:e3[1],'sum'].plot(c='green')\n",
    "rc.ix[e4[0]:e4[1],'sum'].plot(c='red')\n",
    "rc.ix[e5[0]:e5[1],'sum'].plot(c='purple')\n",
    "\n",
    "plt.title('AIRDOS')\n",
    "plt.xlabel('measurement No.')\n",
    "plt.ylabel('Flux [counts per 10 s]')\n",
    "\n",
    "#----------- Plot Spectrum -----------------------------\n",
    "LOW_ENERGY = 256\n",
    "\n",
    "ener1 = rc.ix[e1[0]:e1[1],LOW_ENERGY:513].sum()\n",
    "ener2 = rc.ix[e2[0]:e2[1],LOW_ENERGY:513].sum()\n",
    "ener3 = rc.ix[e3[0]:e3[1],LOW_ENERGY:513].sum()\n",
    "ener4 = rc.ix[e4[0]:e4[1],LOW_ENERGY:513].sum()\n",
    "ener5 = rc.ix[e5[0]:e5[1],LOW_ENERGY:513].sum()\n",
    " \n",
    "plt.figure(figsize=(15,10))\n",
    "plt.yscale('log')\n",
    "\n",
    "plt.plot(ener1, label='e1', drawstyle='steps-pre', c='blue')\n",
    "plt.plot(ener2, label='e2', drawstyle='steps-pre', c='orange')\n",
    "plt.plot(ener3, label='e3', drawstyle='steps-pre', c='green')\n",
    "plt.plot(ener4, label='e4', drawstyle='steps-pre', c='red')\n",
    "plt.plot(ener5, label='e5', drawstyle='steps-pre', c='purple')\n",
    "#plt.ylim([0,20000])\n",
    "#plt.xlim([600,750])\n",
    "plt.legend()\n",
    "plt.title('AIRDOS Spectrum')\n",
    "plt.xlabel('Channel')\n",
    "plt.ylabel('Counts')\n",
    "#plt.xticks(range(500,1030,10))\n",
    "plt.xticks(rotation=90)\n",
    "plt.grid()\n"
   ]
  },
  {
   "cell_type": "markdown",
   "metadata": {},
   "source": [
    "## Save Histogram Data"
   ]
  },
  {
   "cell_type": "code",
   "execution_count": 2,
   "metadata": {},
   "outputs": [],
   "source": [
    "ener1.to_csv('e1.csv')\n",
    "ener2.to_csv('e2.csv')\n",
    "ener3.to_csv('e3.csv')\n",
    "ener4.to_csv('e4.csv')\n",
    "ener5.to_csv('e5.csv')"
   ]
  },
  {
   "cell_type": "code",
   "execution_count": 11,
   "metadata": {},
   "outputs": [
    {
     "name": "stdout",
     "output_type": "stream",
     "text": [
      "Populating the interactive namespace from numpy and matplotlib\n"
     ]
    },
    {
     "data": {
      "image/png": "[encoded data removed]",
      "text/plain": [
       "<matplotlib.figure.Figure at 0x7fabeef3e150>"
      ]
     },
     "metadata": {},
     "output_type": "display_data"
    }
   ],
   "source": [
    "%pylab inline --no-import-all\n",
    "import pandas as pd\n",
    "import numpy as np\n",
    "from datetime import datetime, timedelta\n",
    "from IPython.display import Image as ImageDisp\n",
    "from pandas import DataFrame\n",
    "import string\n",
    "import os\n",
    "import matplotlib.pyplot as plt\n",
    "\n",
    "ener1 = pd.read_table('e1.csv', sep=',', header=None, comment='*',engine='python')\n",
    "ener2 = pd.read_table('e2.csv', sep=',', header=None, comment='*',engine='python')\n",
    "ener3 = pd.read_table('e3.csv', sep=',', header=None, comment='*',engine='python')\n",
    "ener4 = pd.read_table('e4.csv', sep=',', header=None, comment='*',engine='python')\n",
    "ener5 = pd.read_table('e5.csv', sep=',', header=None, comment='*',engine='python')\n",
    "\n",
    "plt.figure(figsize=(15,10))\n",
    "#plt.yscale('log')\n",
    "\n",
    "#ener1.plot( label='e1')\n",
    "plt.plot(ener1[0],ener1[1], label='e1', drawstyle='steps-pre', c='blue')\n",
    "plt.plot(ener2[0],ener2[1], label='e2', drawstyle='steps-pre', c='orange')\n",
    "plt.plot(ener3[0],ener3[1], label='e3', drawstyle='steps-pre', c='green')\n",
    "plt.plot(ener4[0],ener4[1], label='e4', drawstyle='steps-pre', c='red')\n",
    "plt.plot(ener5[0],ener5[1], label='e5', drawstyle='steps-pre', c='purple')\n",
    "\n",
    "plt.ylim([0,10000])\n",
    "#plt.xlim([600,750])\n",
    "plt.legend()\n",
    "plt.title('AIRDOS Spectrum')\n",
    "plt.xlabel('Channel')\n",
    "plt.ylabel('Counts')\n",
    "#plt.xticks(range(500,1030,10))\n",
    "plt.xticks(rotation=90)\n",
    "plt.grid()"
   ]
  }
 ],
 "metadata": {
  "kernelspec": {
   "display_name": "Python 2",
   "language": "python",
   "name": "python2"
  },
  "language_info": {
   "codemirror_mode": {
    "name": "ipython",
    "version": 2
   },
   "file_extension": ".py",
   "mimetype": "text/x-python",
   "name": "python",
   "nbconvert_exporter": "python",
   "pygments_lexer": "ipython2",
   "version": "2.7.12"
  }
 },
 "nbformat": 4,
 "nbformat_minor": 1
}
